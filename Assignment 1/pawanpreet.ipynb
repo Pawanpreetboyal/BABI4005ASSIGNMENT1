{
 "cells": [
  {
   "cell_type": "code",
   "execution_count": 1,
   "id": "8163f745-7b9e-4362-9bf9-ec491e281882",
   "metadata": {},
   "outputs": [
    {
     "name": "stdout",
     "output_type": "stream",
     "text": [
      "Hello, welcome to my Jupyter notebook!\n",
      "The sum of 10 and 5 is 15\n"
     ]
    }
   ],
   "source": [
    "# Simple Python Operations\n",
    "\n",
    "# Print a greeting\n",
    "print(\"Hello, welcome to my Jupyter notebook!\")\n",
    "\n",
    "# Perform a simple calculation\n",
    "number1 = 10\n",
    "number2 = 5\n",
    "result = number1 + number2\n",
    "\n",
    "# Print the result of the calculation\n",
    "print(f\"The sum of {number1} and {number2} is {result}\")\n"
   ]
  },
  {
   "cell_type": "code",
   "execution_count": null,
   "id": "0e4176de-0749-4360-89ef-534ab05bc10b",
   "metadata": {},
   "outputs": [],
   "source": []
  }
 ],
 "metadata": {
  "kernelspec": {
   "display_name": "Python 3 (ipykernel)",
   "language": "python",
   "name": "python3"
  },
  "language_info": {
   "codemirror_mode": {
    "name": "ipython",
    "version": 3
   },
   "file_extension": ".py",
   "mimetype": "text/x-python",
   "name": "python",
   "nbconvert_exporter": "python",
   "pygments_lexer": "ipython3",
   "version": "3.13.1"
  }
 },
 "nbformat": 4,
 "nbformat_minor": 5
}
